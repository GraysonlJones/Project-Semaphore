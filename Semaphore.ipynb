{
 "cells": [
  {
   "cell_type": "code",
   "execution_count": 1,
   "id": "1ccdc005-ad86-4ec9-a5e0-cdd31581bef0",
   "metadata": {},
   "outputs": [
    {
     "name": "stdout",
     "output_type": "stream",
     "text": [
      "Hello\n"
     ]
    }
   ],
   "source": [
    "System.out.println(\"Hello\");"
   ]
  },
  {
   "cell_type": "markdown",
   "id": "ea511def-9d25-4f0c-8695-48fc053c25ea",
   "metadata": {},
   "source": [
    "Test"
   ]
  },
  {
   "cell_type": "code",
   "execution_count": null,
   "id": "0fef918e-195a-4368-bbff-d56bbebf30b5",
   "metadata": {},
   "outputs": [],
   "source": []
  }
 ],
 "metadata": {
  "kernelspec": {
   "display_name": "Java (jjava)",
   "language": "java",
   "name": "java"
  },
  "language_info": {
   "codemirror_mode": "java",
   "file_extension": ".jshell",
   "mimetype": "text/x-java-source",
   "name": "Java",
   "pygments_lexer": "java",
   "version": "24.0.1+9-30"
  }
 },
 "nbformat": 4,
 "nbformat_minor": 5
}
